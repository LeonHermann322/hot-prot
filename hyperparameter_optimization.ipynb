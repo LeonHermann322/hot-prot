{
 "cells": [
  {
   "cell_type": "code",
   "execution_count": 5,
   "metadata": {},
   "outputs": [],
   "source": [
    "import torch\n",
    "import optuna\n",
    "from torch import nn as nn\n",
    "from pathlib import Path\n",
    "import mlflow\n",
    "from optuna.integration.mlflow import MLflowCallback"
   ]
  },
  {
   "cell_type": "code",
   "execution_count": null,
   "metadata": {},
   "outputs": [],
   "source": [
    "from esmhotprot.trunk import FoldingTrunk, FoldingTrunkConfig\n",
    "from esmhotprot.esmfold import ESMFoldConfig"
   ]
  },
  {
   "cell_type": "code",
   "execution_count": null,
   "metadata": {},
   "outputs": [],
   "source": [
    "def prep_minimal_dataset(root_path: Path):\n",
    "    pass\n",
    "prep_minimal_dataset(Path('datasets/FLIP/'))"
   ]
  },
  {
   "cell_type": "code",
   "execution_count": null,
   "metadata": {},
   "outputs": [],
   "source": [
    "def get_minimal_dataset():\n",
    "    pass"
   ]
  },
  {
   "cell_type": "code",
   "execution_count": null,
   "metadata": {},
   "outputs": [],
   "source": [
    "def build_model(\n",
    "    learning_rate: float, \n",
    "    dropout_rate: float, \n",
    "    # batchnormalization: bool, \n",
    "    hidden_units: int, \n",
    "    # activation_function, \n",
    "    esmfold_config=None\n",
    "    ):\n",
    "    cfg = esmfold_config if esmfold_config else ESMFoldConfig()\n",
    "    \n",
    "    trunk = FoldingTrunk()\n",
    "\n",
    "    thermo_predictor = nn.Sequential(\n",
    "        nn.LayerNorm(cfg.structure_module.c_s),\n",
    "        nn.Linear(cfg.trunk.structure_module.c_s, hidden_units),\n",
    "        nn.Dropout(dropout_rate),\n",
    "        nn.Linear(hidden_units, hidden_units),\n",
    "        nn.Dropout(dropout_rate),\n",
    "        nn.Linear(hidden_units, 1),        \n",
    "    )\n",
    "\n",
    "    # TODO Define model class concatenating trunk and thermo_predictor and defining custom forward pass\n",
    "    # Like ESMFold...\n",
    "    model = thermo_predictor\n",
    "    return model"
   ]
  },
  {
   "cell_type": "code",
   "execution_count": null,
   "metadata": {},
   "outputs": [],
   "source": [
    "YOUR_TRACKING_URI = \"http://127.0.0.1:5000\"\n",
    "mlflc = MLflowCallback(\n",
    "    tracking_uri=YOUR_TRACKING_URI,\n",
    "    metric_name=\"metric_score\"\n",
    ")\n",
    "\n",
    "def optimize_thermostability(trial):\n",
    "    X_train, X_test, Y_train, Y_test = get_minimal_dataset()\n",
    "\n",
    "    params = {\n",
    "        'model_learning_rate', trial.suggest_float('model_learning_rate', 0.025, 2, step=0.025),\n",
    "        'model_dropout_rate', trial.suggest_float('model_dropout_rate', 0.0, 0.5, step=0.1),\n",
    "        'model_hidden_units', trial.suggest_int('model_hidden_units', 100, 1000, step=100),\n",
    "    }\n",
    "\n",
    "    model = build_model(\n",
    "        learning_rate=params['model_learning_rate'],\n",
    "        dropout_rate=params['model_dropout_rate'],\n",
    "        hidden_units=params['model_hidden_units'],\n",
    "        )\n",
    "\n",
    "    # TODO training of model\n",
    "    model.fit(X_train, Y_train)\n",
    "\n",
    "    mlflow.log_params(params)\n",
    "    eval_data = X_test\n",
    "    eval_data[\"label\"] = Y_test\n",
    "    candidate_model_uri = mlflow.pytorch.log_model(model).model_uri\n",
    "    mlflow.evaluate(model=candidate_model_uri, data=eval_data, targets=\"label\", model_type=\"regressor\")\n",
    "\n",
    "    # TODO evaluation of model\n",
    "    score = model.evaluate()\n",
    "    mlflow.log_metric(\"score\", score)\n",
    "    return score\n",
    "\n",
    "\n",
    "\n",
    "    \n"
   ]
  }
 ],
 "metadata": {
  "kernelspec": {
   "display_name": ".venv",
   "language": "python",
   "name": "python3"
  },
  "language_info": {
   "codemirror_mode": {
    "name": "ipython",
    "version": 3
   },
   "file_extension": ".py",
   "mimetype": "text/x-python",
   "name": "python",
   "nbconvert_exporter": "python",
   "pygments_lexer": "ipython3",
   "version": "3.8.10"
  },
  "orig_nbformat": 4,
  "vscode": {
   "interpreter": {
    "hash": "0f5ab82eab52575f51b796ef9b6e0ba8826dad889af6b4fe291e1ae3649bc0e1"
   }
  }
 },
 "nbformat": 4,
 "nbformat_minor": 2
}
