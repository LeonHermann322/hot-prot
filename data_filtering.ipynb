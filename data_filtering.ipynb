{
 "cells": [
  {
   "cell_type": "code",
   "execution_count": 48,
   "metadata": {},
   "outputs": [],
   "source": [
    "dataset = []\n",
    "first = True\n",
    "with open('data/full_dataset_sequences.fasta') as fasta:\n",
    "    for line in fasta:\n",
    "        if line[0] == '>':\n",
    "            if first:\n",
    "                first = False\n",
    "            else:\n",
    "                dataset.append(entry)\n",
    "            entry = {}\n",
    "            header_tokens = line.split(' ')\n",
    "            entry['id'] = header_tokens[0].replace('>','').split('_')[0]\n",
    "            entry['header'] = line\n",
    "            entry['temp'] = float(header_tokens[1].split('=')[1].replace('\\n',''))\n",
    "            entry['sequence'] = ''\n",
    "        else:\n",
    "            entry['sequence'] = entry['sequence'] + line.replace('\\n','')"
   ]
  },
  {
   "cell_type": "code",
   "execution_count": 49,
   "metadata": {},
   "outputs": [
    {
     "data": {
      "text/plain": [
       "[{'id': 'A0A023T4K3',\n",
       "  'header': '>A0A023T4K3_Caenorhabditis_elegans_lysate MELTING_POINT=37.9629473421417\\n',\n",
       "  'temp': 37.9629473421417,\n",
       "  'sequence': 'MSGEEEKAADFYVRYYVGHKGKFGHEFLEFEFRPNGSLRYANNSNYKNDTMIRKEATVSESVLSELKRIIEDSEIMQEDDDNWPEPDKIGRQELEILYKNEHISFTTGKIGALADVNNSKDPDGLRSFYYLVQDLKCLVFSLIGLHFKIKPI'},\n",
       " {'id': 'A0A023T778',\n",
       "  'header': '>A0A023T778_Mus_musculus_BMDC_lysate MELTING_POINT=54.4253424806097\\n',\n",
       "  'temp': 54.4253424806097,\n",
       "  'sequence': 'MSMGSDFYLRYYVGHKGKFGHEFLEFEFRPDGKLRYANNSNYKNDVMIRKEAYVHKSVMEELKRIIDDSEITKEDDALWPPPDRVGRQELEIVIGDEHISFTTSKIGSLIDVNQSKDPEGLRVFYYLVQDLKCLVFSLIGLHFKIKPI'},\n",
       " {'id': 'A0A061ACF5',\n",
       "  'header': '>A0A061ACF5_Caenorhabditis_elegans_lysate MELTING_POINT=49.4592155176475\\n',\n",
       "  'temp': 49.4592155176475,\n",
       "  'sequence': 'MRICFLLLAFLVAETFANELTRCCAGGTRHFKNSNTCSSIKSEGTSMTCQRAASICCLRSLLDNACDSGTDIAKEEESCPSNINILGGGLKKECCDCCLLAKDLLNRNEPCVAPVGFSAGCLRSFNKCCNGDIEITHASEIITGRPLNDPHVLHLGDRCASSHCEHLCHDRGGEKVECSCRSGFDLAPDGMACVDIDECATLMDDCLESQRCLNTPGSFKCIRTLSCGTGYAMDSETERCRDVDECNLGSHDCGPLYQCRNTQGSYRCDAKKCGDGELQNPMTGECTSITCPNGYYPKNGMCNDIDECVTGHNCGAGEECVNTPGSFRCQQKGNLCAHGYEVNGATGFCEDVNECTTGIAACEQKCVNIPGSYQCICDRGFALGPDGTKCEDIDECSIWAGSGNDLCMGGCINTKGSYLCQCPPGYKIQPDGRTCVDVDECAMGECAGSDKVCVNTLGSFKCHSIDCPTNYIHDSLNKNQIADGYSCIKVCSTEDTECLGNHTREVLYQFRAVPSLKTIISPIEVSRIVTHMGVPFSVDYNLDYVGQRHFRIVQERNIGIVQLVKPISGPTVETIKVNIHTKSRTGVILAFNEAIIEISVSKYPF'}]"
      ]
     },
     "execution_count": 49,
     "metadata": {},
     "output_type": "execute_result"
    }
   ],
   "source": [
    "dataset[:3]"
   ]
  },
  {
   "cell_type": "code",
   "execution_count": 50,
   "metadata": {},
   "outputs": [],
   "source": [
    "import xml.etree.ElementTree as ET"
   ]
  },
  {
   "cell_type": "code",
   "execution_count": 51,
   "metadata": {},
   "outputs": [
    {
     "name": "stdout",
     "output_type": "stream",
     "text": [
      "<set_iterator object at 0x00000180404E7080>\n"
     ]
    }
   ],
   "source": [
    "eval_ids = set()\n",
    "with open('data/uniref201803_ur50_valid_headers.txt') as txt_file:\n",
    "    for line in txt_file:\n",
    "        id = line.split('_')[1].replace('\\n','')\n",
    "        eval_ids.add(id)\n",
    "print(iter(eval_ids))"
   ]
  },
  {
   "cell_type": "code",
   "execution_count": 52,
   "metadata": {},
   "outputs": [
    {
     "data": {
      "text/plain": [
       "[{'id': 'A0A078BPG0',\n",
       "  'header': '>A0A078BPG0_Caenorhabditis_elegans_lysate MELTING_POINT=41.1098418725276\\n',\n",
       "  'temp': 41.1098418725276,\n",
       "  'sequence': 'MSALFQEVKGRQQDFMKAFNAGDAAGAASVYDPDGYFMPNGRNPVKGRSGIEAYFKEDMADGVQTAQIITEEVNGGGDWAFERGSYHLDGTKGRESGAYLQIWKKVEGVWLIHNDCFNVIKNAC'},\n",
       " {'id': 'A0A0A6YWP2',\n",
       "  'header': '>A0A0A6YWP2_Mus_musculus_BMDC_lysate MELTING_POINT=42.1985268328721\\n',\n",
       "  'temp': 42.1985268328721,\n",
       "  'sequence': 'MEALKVEKFTTANRGNGLRAVAPLRPGELLFRSDPLAYTVCKGSRGVVCDRCLLGKVVWERAAWLSSEPENI'},\n",
       " {'id': 'A0A0K2HAP7',\n",
       "  'header': '>A0A0K2HAP7_Geobacillus_stearothermophilus_NCA26_lysate MELTING_POINT=72.3790995873377\\n',\n",
       "  'temp': 72.3790995873377,\n",
       "  'sequence': 'MHQEIEIELKNLLTAAEFAAVRAAFRLDDGAFFRQENHYFDTPSFALKERAAALRIRAKEGRLTLTLKQTRADGTILEIHEPLSLSEAEAWLAGIAAPRGAIADLLAELGINPHEVRCFGSLVTDRAEWPHEGGTLCLDHNCYLQSEDYELEYEVDHVEAGEKRFLRLLEALGIPRRPAPNKIARFYARMKEMEERR'}]"
      ]
     },
     "execution_count": 52,
     "metadata": {},
     "output_type": "execute_result"
    }
   ],
   "source": [
    "eval_ds = []\n",
    "train_ds = []\n",
    "\n",
    "for entry in dataset:\n",
    "    if entry['id'] in eval_ids:\n",
    "        eval_ds.append(entry)\n",
    "    else:\n",
    "        train_ds.append(entry)\n",
    "\n",
    "eval_ds[:3]"
   ]
  },
  {
   "cell_type": "code",
   "execution_count": 53,
   "metadata": {},
   "outputs": [],
   "source": [
    "def write_to_fasta(filename: str, ds: list):\n",
    "    with open(f\"data/{filename}\", 'w') as f_fasta:\n",
    "        for entry in ds:\n",
    "            f_fasta.write(entry['header'])\n",
    "            f_fasta.write(entry['sequence'] + '\\n')"
   ]
  },
  {
   "cell_type": "code",
   "execution_count": 55,
   "metadata": {},
   "outputs": [
    {
     "data": {
      "text/plain": [
       "183697"
      ]
     },
     "execution_count": 55,
     "metadata": {},
     "output_type": "execute_result"
    }
   ],
   "source": [
    "write_to_fasta('eval_sequences.fasta', eval_ds)\n",
    "write_to_fasta('train_sequences.fasta', train_ds)"
   ]
  }
 ],
 "metadata": {
  "kernelspec": {
   "display_name": "Python 3.7.12 ('hotprot')",
   "language": "python",
   "name": "python3"
  },
  "language_info": {
   "codemirror_mode": {
    "name": "ipython",
    "version": 3
   },
   "file_extension": ".py",
   "mimetype": "text/x-python",
   "name": "python",
   "nbconvert_exporter": "python",
   "pygments_lexer": "ipython3",
   "version": "3.7.12"
  },
  "orig_nbformat": 4,
  "vscode": {
   "interpreter": {
    "hash": "c2ce9c753ae11230af47747c2525775742a5c4219355d1b58136056d9f8dd6ad"
   }
  }
 },
 "nbformat": 4,
 "nbformat_minor": 2
}
