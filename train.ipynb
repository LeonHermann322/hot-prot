{
 "cells": [
  {
   "attachments": {},
   "cell_type": "markdown",
   "metadata": {},
   "source": [
    "# Classification\n",
    "In this notebook we classify the CT/PET scans of lung cancer cases by tumor type. \n",
    "We are doing this as a baseline task to validate our data loading pipeline.\n",
    "Most code is taken from [this tutorial](https://pytorch.org/tutorials/beginner/transfer_learning_tutorial.html)"
   ]
  },
  {
   "cell_type": "code",
   "execution_count": 2,
   "metadata": {},
   "outputs": [
    {
     "ename": "ModuleNotFoundError",
     "evalue": "No module named 'matplotlib'",
     "output_type": "error",
     "traceback": [
      "\u001b[0;31m---------------------------------------------------------------------------\u001b[0m",
      "\u001b[0;31mModuleNotFoundError\u001b[0m                       Traceback (most recent call last)",
      "\u001b[0;32m/tmp/ipykernel_2345188/919407580.py\u001b[0m in \u001b[0;36m<module>\u001b[0;34m\u001b[0m\n\u001b[1;32m      6\u001b[0m \u001b[0;32mfrom\u001b[0m \u001b[0mtorch\u001b[0m\u001b[0;34m.\u001b[0m\u001b[0mutils\u001b[0m\u001b[0;34m.\u001b[0m\u001b[0mdata\u001b[0m \u001b[0;32mimport\u001b[0m \u001b[0mrandom_split\u001b[0m\u001b[0;34m\u001b[0m\u001b[0;34m\u001b[0m\u001b[0m\n\u001b[1;32m      7\u001b[0m \u001b[0;32mimport\u001b[0m \u001b[0mnumpy\u001b[0m \u001b[0;32mas\u001b[0m \u001b[0mnp\u001b[0m\u001b[0;34m\u001b[0m\u001b[0;34m\u001b[0m\u001b[0m\n\u001b[0;32m----> 8\u001b[0;31m \u001b[0;32mimport\u001b[0m \u001b[0mmatplotlib\u001b[0m\u001b[0;34m.\u001b[0m\u001b[0mpyplot\u001b[0m \u001b[0;32mas\u001b[0m \u001b[0mplt\u001b[0m\u001b[0;34m\u001b[0m\u001b[0;34m\u001b[0m\u001b[0m\n\u001b[0m\u001b[1;32m      9\u001b[0m \u001b[0;32mimport\u001b[0m \u001b[0mtime\u001b[0m\u001b[0;34m\u001b[0m\u001b[0;34m\u001b[0m\u001b[0m\n\u001b[1;32m     10\u001b[0m \u001b[0;32mimport\u001b[0m \u001b[0mos\u001b[0m\u001b[0;34m\u001b[0m\u001b[0;34m\u001b[0m\u001b[0m\n",
      "\u001b[0;31mModuleNotFoundError\u001b[0m: No module named 'matplotlib'"
     ]
    }
   ],
   "source": [
    "import torch\n",
    "import torch.nn as nn\n",
    "import torch.optim as optim\n",
    "from torch.optim import lr_scheduler\n",
    "import torch.backends.cudnn as cudnn\n",
    "from torch.utils.data import random_split\n",
    "import numpy as np\n",
    "import matplotlib.pyplot as plt\n",
    "import time\n",
    "import os\n",
    "import copy\n",
    "from thermostability.thermo_dataset import ThermostabilityDataset\n",
    "\n",
    "cudnn.benchmark = True\n",
    "device = torch.device(\"cuda:0\" if torch.cuda.is_available() else \"cpu\")\n",
    "\n",
    "if torch.cuda.is_available():\n",
    "    torch.cuda.empty_cache() \n",
    "    \n",
    "cpu = torch.device(\"cpu\")\n",
    "\n",
    "torch.cuda.list_gpu_processes()"
   ]
  },
  {
   "attachments": {},
   "cell_type": "markdown",
   "metadata": {},
   "source": [
    "# Defining datasets (train/validation) "
   ]
  },
  {
   "cell_type": "code",
   "execution_count": null,
   "metadata": {},
   "outputs": [],
   "source": [
    "trainSet = ThermostabilityDataset(\"data/train_sequences.fasta\")\n",
    "valSet = ThermostabilityDataset(\"data/eval_sequences.fasta\")\n",
    "\n",
    "dataloaders = {\n",
    "    \"train\": torch.utils.data.DataLoader(trainSet, batch_size=32, shuffle=True, num_workers=4),\n",
    "    \"val\": torch.utils.data.DataLoader(valSet, batch_size=32, shuffle=True, num_workers=4)\n",
    "}\n",
    "\n",
    "dataset_sizes = {\"train\": len(trainSet),\"val\": len(valSet)}"
   ]
  },
  {
   "attachments": {},
   "cell_type": "markdown",
   "metadata": {},
   "source": [
    "# Defining model "
   ]
  },
  {
   "cell_type": "code",
   "execution_count": null,
   "metadata": {},
   "outputs": [
    {
     "data": {
      "text/plain": [
       "CapsNet(\n",
       "  (conv_layer): ConvLayer(\n",
       "    (conv): Conv2d(1, 256, kernel_size=(9, 9), stride=(1, 1))\n",
       "  )\n",
       "  (primary_capsules): PrimaryCaps(\n",
       "    (capsules): ModuleList(\n",
       "      (0): Conv2d(256, 32, kernel_size=(9, 9), stride=(2, 2))\n",
       "      (1): Conv2d(256, 32, kernel_size=(9, 9), stride=(2, 2))\n",
       "      (2): Conv2d(256, 32, kernel_size=(9, 9), stride=(2, 2))\n",
       "      (3): Conv2d(256, 32, kernel_size=(9, 9), stride=(2, 2))\n",
       "      (4): Conv2d(256, 32, kernel_size=(9, 9), stride=(2, 2))\n",
       "      (5): Conv2d(256, 32, kernel_size=(9, 9), stride=(2, 2))\n",
       "      (6): Conv2d(256, 32, kernel_size=(9, 9), stride=(2, 2))\n",
       "      (7): Conv2d(256, 32, kernel_size=(9, 9), stride=(2, 2))\n",
       "    )\n",
       "  )\n",
       "  (digit_capsules): DigitCaps()\n",
       "  (decoder): Decoder(\n",
       "    (reconstraction_layers): Sequential(\n",
       "      (0): Linear(in_features=32, out_features=512, bias=True)\n",
       "      (1): ReLU(inplace=True)\n",
       "      (2): Linear(in_features=512, out_features=1024, bias=True)\n",
       "      (3): ReLU(inplace=True)\n",
       "      (4): Linear(in_features=1024, out_features=1024, bias=True)\n",
       "      (5): Sigmoid()\n",
       "    )\n",
       "  )\n",
       "  (mse_loss): MSELoss()\n",
       ")"
      ]
     },
     "execution_count": 9,
     "metadata": {},
     "output_type": "execute_result"
    }
   ],
   "source": [
    "from thermostability.hotinfer import HotInfer\n",
    "model = HotInfer()\n",
    "model.esmfold.requires_grad_(False)\n",
    "\n",
    "model.to(device)"
   ]
  },
  {
   "attachments": {},
   "cell_type": "markdown",
   "metadata": {},
   "source": [
    "# Setup training"
   ]
  },
  {
   "cell_type": "code",
   "execution_count": null,
   "metadata": {},
   "outputs": [],
   "source": [
    "from tqdm.notebook import tqdm\n",
    "import sys\n",
    "\n",
    "def train_model(model, optimizer, criterion, scheduler, num_epochs=25):\n",
    "    since = time.time()\n",
    "\n",
    "    best_model_wts = copy.deepcopy(model.state_dict())\n",
    "\n",
    "    best_epoch_loss = sys.float_info.max\n",
    "    losses = []\n",
    "    batchEnumeration = []\n",
    "    for epoch in range(num_epochs):\n",
    "        print(f'Epoch {epoch}/{num_epochs - 1}')\n",
    "        print('-' * 10)\n",
    "\n",
    "        # Each epoch has a training and validation phase\n",
    "        for phase in ['train', 'val']:\n",
    "            if phase == 'train':\n",
    "                model.train()  # Set model to training mode\n",
    "            else:\n",
    "                model.eval()   # Set model to evaluate mode\n",
    "\n",
    "            running_loss = 0.0\n",
    "         \n",
    "\n",
    "            # Iterate over data.\n",
    "            for idx, (inputs, labels) in enumerate(dataloaders[phase]):\n",
    "                inputs = inputs.to(device)\n",
    "                labels = labels.to(device)\n",
    "\n",
    "                # zero the parameter gradients\n",
    "                optimizer.zero_grad()\n",
    "\n",
    "                # forward\n",
    "                # track history if only in train\n",
    "                with torch.set_grad_enabled(phase == 'train'):\n",
    "                    outputs = model(inputs)\n",
    "                    \n",
    "                    loss = criterion(outputs,labels)\n",
    "\n",
    "                    # backward + optimize only if in training phase\n",
    "                    if phase == 'train':\n",
    "                        loss.backward()\n",
    "                        optimizer.step()\n",
    "\n",
    "                # statistics\n",
    "                batch_size = inputs.size(0)\n",
    "                batch_loss = loss.item() * batch_size\n",
    "                losses.append(batch_loss)\n",
    "                batchEnumeration.append(batchEnumeration[-1]+1 if len(batchEnumeration)>0 else 0)\n",
    "\n",
    "                running_loss += batch_loss\n",
    "               \n",
    "            \n",
    "                if idx % 10 == 0:\n",
    "                    batch_size = inputs.size(0)\n",
    "                    tqdm.write(\"Epoch: [{}/{}], Batch: [{}/{}], train accuracy: {:.6f}, loss: {:.6f}\".format(\n",
    "                        epoch,\n",
    "                        num_epochs,\n",
    "                        idx + 1,\n",
    "                        len(dataloaders[phase]),\n",
    "                        batch_loss / float(batch_size)\n",
    "                        ), end=\"\\r\")\n",
    "                    \n",
    "                    \n",
    "            if phase == 'train':\n",
    "                scheduler.step()\n",
    "\n",
    "            epoch_loss = running_loss / dataset_sizes[phase]\n",
    "\n",
    "\n",
    "            print(f'{phase} Loss: {epoch_loss:.4f}')\n",
    "\n",
    "            # deep copy the model\n",
    "            if phase == 'val' and epoch_loss < best_epoch_loss:\n",
    "                best_epoch_loss = epoch_loss\n",
    "                best_model_wts = copy.deepcopy(model.state_dict())\n",
    "\n",
    "        print()\n",
    "\n",
    "\n",
    "    time_elapsed = time.time() - since\n",
    "    print(f'Training complete in {time_elapsed // 60:.0f}m {time_elapsed % 60:.0f}s')\n",
    "    print(f'Best val Acc: {best_epoch_loss:4f}')\n",
    "    # load best model weights\n",
    "    model.load_state_dict(best_model_wts)\n",
    "    return model"
   ]
  },
  {
   "attachments": {},
   "cell_type": "markdown",
   "metadata": {},
   "source": [
    "# Define training parameters"
   ]
  },
  {
   "cell_type": "code",
   "execution_count": null,
   "metadata": {},
   "outputs": [],
   "source": [
    "criterion = nn.MSELoss()\n",
    "\n",
    "# Observe that all parameters are being optimized\n",
    "optimizer_ft = optim.SGD(model.parameters(), lr=0.001, momentum=0.9)\n",
    "\n",
    "# Decay LR by a factor of 0.1 every 7 epochs\n",
    "exp_lr_scheduler = lr_scheduler.StepLR(optimizer_ft, step_size=7, gamma=0.1)"
   ]
  },
  {
   "attachments": {},
   "cell_type": "markdown",
   "metadata": {},
   "source": [
    "# Run training"
   ]
  },
  {
   "cell_type": "code",
   "execution_count": null,
   "metadata": {},
   "outputs": [
    {
     "name": "stdout",
     "output_type": "stream",
     "text": [
      "Epoch 0/9\n",
      "----------\n",
      "train Loss: 18.9435 Acc: 0.7027, train accuracy: 0.687500, loss: 16.910091\n",
      "val Loss: 18.7073 Acc: 0.73450], train accuracy: 0.750000, loss: 18.077358\n",
      "\n",
      "Epoch 1/9\n",
      "----------\n",
      "train Loss: 17.9900 Acc: 0.7343, train accuracy: 0.718750, loss: 14.712916\n",
      "val Loss: 16.8119 Acc: 0.73450], train accuracy: 0.687500, loss: 17.709304\n",
      "\n",
      "Epoch 2/9\n",
      "----------\n",
      "train Loss: 16.3725 Acc: 0.7343, train accuracy: 0.562500, loss: 14.705430\n",
      "val Loss: 16.0910 Acc: 0.73450], train accuracy: 0.812500, loss: 17.232780\n",
      "\n",
      "Epoch 3/9\n",
      "----------\n",
      "train Loss: 16.0084 Acc: 0.7343, train accuracy: 0.781250, loss: 17.190708\n",
      "val Loss: 15.8161 Acc: 0.73450], train accuracy: 0.687500, loss: 18.516484\n",
      "\n",
      "Epoch 4/9\n",
      "----------\n",
      "train Loss: 15.6775 Acc: 0.7343, train accuracy: 0.875000, loss: 11.434160\n",
      "val Loss: 15.3765 Acc: 0.73450], train accuracy: 0.718750, loss: 13.697801\n",
      "\n",
      "Epoch 5/9\n",
      "----------\n",
      "train Loss: 15.0167 Acc: 0.7343, train accuracy: 0.625000, loss: 13.509391\n",
      "val Loss: 14.4553 Acc: 0.73450], train accuracy: 0.750000, loss: 17.974080\n",
      "\n",
      "Epoch 6/9\n",
      "----------\n",
      "train Loss: 14.0885 Acc: 0.7343, train accuracy: 0.687500, loss: 13.851066\n",
      "val Loss: 13.7165 Acc: 0.73450], train accuracy: 0.750000, loss: 10.818708\n",
      "\n",
      "Epoch 7/9\n",
      "----------\n",
      "train Loss: 13.7306 Acc: 0.7343, train accuracy: 0.687500, loss: 13.151554\n",
      "val Loss: 13.6402 Acc: 0.73450], train accuracy: 0.718750, loss: 12.181865\n",
      "\n",
      "Epoch 8/9\n",
      "----------\n",
      "train Loss: 13.6656 Acc: 0.7343, train accuracy: 0.812500, loss: 12.117810\n",
      "val Loss: 13.5945 Acc: 0.73450], train accuracy: 0.812500, loss: 15.811605\n",
      "\n",
      "Epoch 9/9\n",
      "----------\n",
      "train Loss: 13.6110 Acc: 0.7343, train accuracy: 0.812500, loss: 11.254477\n",
      "val Loss: 13.5433 Acc: 0.73450], train accuracy: 0.843750, loss: 12.865409\n",
      "\n",
      "Training complete in 10m 54s\n",
      "Best val Acc: 0.734487\n"
     ]
    },
    {
     "data": {
      "image/png": "[encoded data removed]",
      "text/plain": [
       "<Figure size 640x480 with 1 Axes>"
      ]
     },
     "metadata": {},
     "output_type": "display_data"
    }
   ],
   "source": [
    "model = train_model(model, criterion, optimizer_ft, exp_lr_scheduler,\n",
    "                       num_epochs=10)"
   ]
  },
  {
   "attachments": {},
   "cell_type": "markdown",
   "metadata": {},
   "source": [
    "# Evaluation"
   ]
  },
  {
   "cell_type": "code",
   "execution_count": null,
   "metadata": {},
   "outputs": [],
   "source": [
    "x = np.arange(-5, 5, 0.001)\n",
    "\n",
    "#define multiple normal distributions\n",
    "\n",
    "def normal_dist(x , mean , sd):\n",
    "    prob_density = (np.pi*sd) * np.exp(-0.5*((x-mean)/sd)**2)\n",
    "    return prob_density\n",
    "\n",
    "diffs = np.array([0, 0.1, 0.2,-0.2, -0.8, 0.1])\n",
    "sd = diffs.std()\n",
    "mean = diffs.mean()\n",
    "plt.plot(x, norm.pdf(x, mean, sd), label='μ: 0, σ: 1', color='gold')\n",
    "plt.hist(diffs, 10)\n",
    "plt.plot(diffs, normal_dist(diffs, mean, sd), 'o',label='datapoints', color='red')"
   ]
  }
 ],
 "metadata": {
  "kernelspec": {
   "display_name": "Python 3.7.12 ('hotprot')",
   "language": "python",
   "name": "python3"
  },
  "language_info": {
   "codemirror_mode": {
    "name": "ipython",
    "version": 3
   },
   "file_extension": ".py",
   "mimetype": "text/x-python",
   "name": "python",
   "nbconvert_exporter": "python",
   "pygments_lexer": "ipython3",
   "version": "3.7.12"
  },
  "orig_nbformat": 4,
  "vscode": {
   "interpreter": {
    "hash": "c2ce9c753ae11230af47747c2525775742a5c4219355d1b58136056d9f8dd6ad"
   }
  }
 },
 "nbformat": 4,
 "nbformat_minor": 2
}
