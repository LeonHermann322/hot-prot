{
 "cells": [
  {
   "cell_type": "code",
   "execution_count": 1,
   "metadata": {},
   "outputs": [
    {
     "name": "stdout",
     "output_type": "stream",
     "text": [
      "representation size torch.Size([1, 2, 2])\n"
     ]
    }
   ],
   "source": [
    "from thermostability.autoencoder import RepresentationAutoEncoder, Decoder, Encoder\n",
    "import torch\n",
    "\n",
    "input = torch.rand((10,4,8))\n",
    "\n",
    "encoder = Encoder(per_residue_input_size=8, per_residue_output_size=2)\n",
    "\n",
    "representation, size_matrix = encoder(torch.rand((1,4,8)))\n",
    "\n",
    "print(\"representation size\", representation.size())\n"
   ]
  },
  {
   "cell_type": "code",
   "execution_count": 2,
   "metadata": {},
   "outputs": [
    {
     "ename": "TypeError",
     "evalue": "empty() received an invalid combination of arguments - got (tuple, dtype=NoneType, device=NoneType), but expected one of:\n * (tuple of ints size, *, tuple of names names, torch.memory_format memory_format, torch.dtype dtype, torch.layout layout, torch.device device, bool pin_memory, bool requires_grad)\n * (tuple of SymInts size, *, torch.memory_format memory_format, Tensor out, torch.dtype dtype, torch.layout layout, torch.device device, bool pin_memory, bool requires_grad)\n",
     "output_type": "error",
     "traceback": [
      "\u001b[0;31m---------------------------------------------------------------------------\u001b[0m",
      "\u001b[0;31mTypeError\u001b[0m                                 Traceback (most recent call last)",
      "Cell \u001b[0;32mIn[2], line 1\u001b[0m\n\u001b[0;32m----> 1\u001b[0m decoder \u001b[39m=\u001b[39m Decoder(representation_size\u001b[39m=\u001b[39;49mencoder\u001b[39m.\u001b[39;49mrepresentation_square_axis_len, per_residue_output_size\u001b[39m=\u001b[39;49m\u001b[39m8\u001b[39;49m)\n\u001b[1;32m      3\u001b[0m decoded \u001b[39m=\u001b[39m decoder(representation, size_matrix)\n",
      "File \u001b[0;32m~/hot-prot/thermostability/autoencoder.py:78\u001b[0m, in \u001b[0;36mDecoder.__init__\u001b[0;34m(self, representation_size, per_residue_output_size, activation, p_dropout)\u001b[0m\n\u001b[1;32m     68\u001b[0m \u001b[39mdef\u001b[39;00m \u001b[39m__init__\u001b[39m(\n\u001b[1;32m     69\u001b[0m     \u001b[39mself\u001b[39m,\n\u001b[1;32m     70\u001b[0m     representation_size\u001b[39m=\u001b[39m\u001b[39m10\u001b[39m,\n\u001b[0;32m   (...)\u001b[0m\n\u001b[1;32m     73\u001b[0m     p_dropout\u001b[39m=\u001b[39m\u001b[39m0.0\u001b[39m,\n\u001b[1;32m     74\u001b[0m ):\n\u001b[1;32m     75\u001b[0m     \u001b[39msuper\u001b[39m()\u001b[39m.\u001b[39m\u001b[39m__init__\u001b[39m()\n\u001b[1;32m     77\u001b[0m     \u001b[39mself\u001b[39m\u001b[39m.\u001b[39mlayers \u001b[39m=\u001b[39m nn\u001b[39m.\u001b[39mSequential(\n\u001b[0;32m---> 78\u001b[0m         nn\u001b[39m.\u001b[39;49mLinear(representation_size, per_residue_output_size \u001b[39m/\u001b[39;49m \u001b[39m2\u001b[39;49m),\n\u001b[1;32m     79\u001b[0m         activation(),\n\u001b[1;32m     80\u001b[0m         nn\u001b[39m.\u001b[39mLinear(per_residue_output_size \u001b[39m/\u001b[39m \u001b[39m2\u001b[39m, per_residue_output_size),\n\u001b[1;32m     81\u001b[0m     )\n",
      "File \u001b[0;32m~/miniconda3/envs/hotprot/lib/python3.8/site-packages/torch/nn/modules/linear.py:96\u001b[0m, in \u001b[0;36mLinear.__init__\u001b[0;34m(self, in_features, out_features, bias, device, dtype)\u001b[0m\n\u001b[1;32m     94\u001b[0m \u001b[39mself\u001b[39m\u001b[39m.\u001b[39min_features \u001b[39m=\u001b[39m in_features\n\u001b[1;32m     95\u001b[0m \u001b[39mself\u001b[39m\u001b[39m.\u001b[39mout_features \u001b[39m=\u001b[39m out_features\n\u001b[0;32m---> 96\u001b[0m \u001b[39mself\u001b[39m\u001b[39m.\u001b[39mweight \u001b[39m=\u001b[39m Parameter(torch\u001b[39m.\u001b[39;49mempty((out_features, in_features), \u001b[39m*\u001b[39;49m\u001b[39m*\u001b[39;49mfactory_kwargs))\n\u001b[1;32m     97\u001b[0m \u001b[39mif\u001b[39;00m bias:\n\u001b[1;32m     98\u001b[0m     \u001b[39mself\u001b[39m\u001b[39m.\u001b[39mbias \u001b[39m=\u001b[39m Parameter(torch\u001b[39m.\u001b[39mempty(out_features, \u001b[39m*\u001b[39m\u001b[39m*\u001b[39mfactory_kwargs))\n",
      "\u001b[0;31mTypeError\u001b[0m: empty() received an invalid combination of arguments - got (tuple, dtype=NoneType, device=NoneType), but expected one of:\n * (tuple of ints size, *, tuple of names names, torch.memory_format memory_format, torch.dtype dtype, torch.layout layout, torch.device device, bool pin_memory, bool requires_grad)\n * (tuple of SymInts size, *, torch.memory_format memory_format, Tensor out, torch.dtype dtype, torch.layout layout, torch.device device, bool pin_memory, bool requires_grad)\n"
     ]
    }
   ],
   "source": [
    "decoder = Decoder(representation_size=encoder.representation_square_axis_len, per_residue_output_size=8)\n",
    "\n",
    "decoded = decoder(representation, size_matrix)"
   ]
  },
  {
   "cell_type": "code",
   "execution_count": null,
   "metadata": {},
   "outputs": [
    {
     "data": {
      "text/plain": [
       "[<matplotlib.lines.Line2D at 0x7f572838c1c0>]"
      ]
     },
     "execution_count": 12,
     "metadata": {},
     "output_type": "execute_result"
    },
    {
     "data": {
      "image/png": "[encoded data removed]",
      "text/plain": [
       "<Figure size 640x480 with 1 Axes>"
      ]
     },
     "metadata": {},
     "output_type": "display_data"
    }
   ],
   "source": [
    "from matplotlib.pyplot import plot \n",
    "\n",
    "autoencoder = RepresentationAutoEncoder(per_residue_input_size=8, per_residue_output_size=2)\n",
    "\n",
    "loss_fn = torch.nn.MSELoss()\n",
    "\n",
    "\n",
    "optimizer = torch.optim.SGD(autoencoder.parameters(), lr=0.001, momentum=0.9)\n",
    "\n",
    "losses = []\n",
    "for i in range(10000):\n",
    "    optimizer.zero_grad()\n",
    "    decoded = autoencoder(input)\n",
    "\n",
    "    loss = loss_fn(decoded, input)\n",
    "    loss.backward()\n",
    "    optimizer.step()\n",
    "    losses.append(loss.item())\n",
    "\n",
    "plot(range(len(losses)),losses)"
   ]
  },
  {
   "cell_type": "code",
   "execution_count": null,
   "metadata": {},
   "outputs": [
    {
     "data": {
      "text/plain": [
       "tensor([[0.2617, 0.4315, 0.8977, 0.1804, 0.2174, 0.6058, 0.8594, 0.5276],\n",
       "        [0.3220, 0.5237, 0.7293, 0.1660, 0.5761, 0.5551, 0.8198, 0.8639],\n",
       "        [0.1084, 0.6882, 0.6130, 0.2076, 0.2306, 0.3028, 0.5107, 0.2421],\n",
       "        [0.0452, 0.9566, 0.2690, 0.1911, 0.4204, 0.7175, 0.6827, 0.5111]])"
      ]
     },
     "execution_count": 13,
     "metadata": {},
     "output_type": "execute_result"
    }
   ],
   "source": [
    "input[0]"
   ]
  },
  {
   "cell_type": "code",
   "execution_count": null,
   "metadata": {},
   "outputs": [
    {
     "data": {
      "text/plain": [
       "tensor([[0.4606, 0.4781, 0.5071, 0.4817, 0.4704, 0.6285, 0.4534, 0.4527],\n",
       "        [0.4606, 0.4781, 0.5071, 0.4817, 0.4704, 0.6285, 0.4534, 0.4527],\n",
       "        [0.4606, 0.4781, 0.5071, 0.4817, 0.4704, 0.6285, 0.4534, 0.4527],\n",
       "        [0.4606, 0.4781, 0.5071, 0.4817, 0.4704, 0.6285, 0.4534, 0.4527]],\n",
       "       grad_fn=<SelectBackward0>)"
      ]
     },
     "execution_count": 14,
     "metadata": {},
     "output_type": "execute_result"
    }
   ],
   "source": [
    "autoencoder(input)[0]"
   ]
  }
 ],
 "metadata": {
  "kernelspec": {
   "display_name": "hotprot",
   "language": "python",
   "name": "python3"
  },
  "language_info": {
   "codemirror_mode": {
    "name": "ipython",
    "version": 3
   },
   "file_extension": ".py",
   "mimetype": "text/x-python",
   "name": "python",
   "nbconvert_exporter": "python",
   "pygments_lexer": "ipython3",
   "version": "3.8.16"
  },
  "orig_nbformat": 4
 },
 "nbformat": 4,
 "nbformat_minor": 2
}
