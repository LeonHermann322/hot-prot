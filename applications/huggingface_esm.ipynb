{
 "cells": [
  {
   "cell_type": "code",
   "execution_count": 3,
   "metadata": {},
   "outputs": [
    {
     "name": "stdout",
     "output_type": "stream",
     "text": [
      "{'input_ids': tensor([[ 0, 25,  5, 25, 25,  5, 25, 25,  5, 25,  5, 25,  5,  2]]), 'attention_mask': tensor([[1, 1, 1, 1, 1, 1, 1, 1, 1, 1, 1, 1, 1, 1]])}\n"
     ]
    },
    {
     "name": "stderr",
     "output_type": "stream",
     "text": [
      "Some weights of the model checkpoint at facebook/esm2_t6_8M_UR50D were not used when initializing EsmForSequenceClassification: ['lm_head.dense.bias', 'lm_head.bias', 'lm_head.decoder.weight', 'lm_head.layer_norm.weight', 'lm_head.dense.weight', 'lm_head.layer_norm.bias']\n",
      "- This IS expected if you are initializing EsmForSequenceClassification from the checkpoint of a model trained on another task or with another architecture (e.g. initializing a BertForSequenceClassification model from a BertForPreTraining model).\n",
      "- This IS NOT expected if you are initializing EsmForSequenceClassification from the checkpoint of a model that you expect to be exactly identical (initializing a BertForSequenceClassification model from a BertForSequenceClassification model).\n",
      "Some weights of EsmForSequenceClassification were not initialized from the model checkpoint at facebook/esm2_t6_8M_UR50D and are newly initialized: ['classifier.out_proj.bias', 'classifier.out_proj.weight', 'classifier.dense.weight', 'classifier.dense.bias']\n",
      "You should probably TRAIN this model on a down-stream task to be able to use it for predictions and inference.\n"
     ]
    },
    {
     "ename": "ValueError",
     "evalue": "The hidden size (128) is not a multiple of the number of attention heads (20)",
     "output_type": "error",
     "traceback": [
      "\u001b[0;31m---------------------------------------------------------------------------\u001b[0m",
      "\u001b[0;31mValueError\u001b[0m                                Traceback (most recent call last)",
      "Cell \u001b[0;32mIn[3], line 24\u001b[0m\n\u001b[1;32m     22\u001b[0m \u001b[39m# To train a model on `num_labels` classes, you can pass `num_labels=num_labels` to `.from_pretrained(...)`\u001b[39;00m\n\u001b[1;32m     23\u001b[0m num_labels \u001b[39m=\u001b[39m \u001b[39mlen\u001b[39m(model\u001b[39m.\u001b[39mconfig\u001b[39m.\u001b[39mid2label)\n\u001b[0;32m---> 24\u001b[0m model \u001b[39m=\u001b[39m EsmForSequenceClassification\u001b[39m.\u001b[39;49mfrom_pretrained(\u001b[39m\"\u001b[39;49m\u001b[39mfacebook/esm2_t6_8M_UR50D\u001b[39;49m\u001b[39m\"\u001b[39;49m, num_labels\u001b[39m=\u001b[39;49mhuggingface_cls_head_out_size, hidden_size\u001b[39m=\u001b[39;49mhuggingface_cls_head_hidden_size)\n\u001b[1;32m     26\u001b[0m labels \u001b[39m=\u001b[39m torch\u001b[39m.\u001b[39mtensor([\u001b[39m1\u001b[39m])\n\u001b[1;32m     27\u001b[0m loss \u001b[39m=\u001b[39m model(\u001b[39m*\u001b[39m\u001b[39m*\u001b[39minputs, labels\u001b[39m=\u001b[39mlabels)\u001b[39m.\u001b[39mloss\n",
      "File \u001b[0;32m~/miniconda3/envs/hotprot/lib/python3.8/site-packages/transformers/modeling_utils.py:2362\u001b[0m, in \u001b[0;36mPreTrainedModel.from_pretrained\u001b[0;34m(cls, pretrained_model_name_or_path, *model_args, **kwargs)\u001b[0m\n\u001b[1;32m   2359\u001b[0m     init_contexts\u001b[39m.\u001b[39mappend(init_empty_weights())\n\u001b[1;32m   2361\u001b[0m \u001b[39mwith\u001b[39;00m ContextManagers(init_contexts):\n\u001b[0;32m-> 2362\u001b[0m     model \u001b[39m=\u001b[39m \u001b[39mcls\u001b[39;49m(config, \u001b[39m*\u001b[39;49mmodel_args, \u001b[39m*\u001b[39;49m\u001b[39m*\u001b[39;49mmodel_kwargs)\n\u001b[1;32m   2364\u001b[0m \u001b[39m# Check first if we are `from_pt`\u001b[39;00m\n\u001b[1;32m   2365\u001b[0m \u001b[39mif\u001b[39;00m use_keep_in_fp32_modules:\n",
      "File \u001b[0;32m~/miniconda3/envs/hotprot/lib/python3.8/site-packages/transformers/models/esm/modeling_esm.py:1089\u001b[0m, in \u001b[0;36mEsmForSequenceClassification.__init__\u001b[0;34m(self, config)\u001b[0m\n\u001b[1;32m   1086\u001b[0m \u001b[39mself\u001b[39m\u001b[39m.\u001b[39mnum_labels \u001b[39m=\u001b[39m config\u001b[39m.\u001b[39mnum_labels\n\u001b[1;32m   1087\u001b[0m \u001b[39mself\u001b[39m\u001b[39m.\u001b[39mconfig \u001b[39m=\u001b[39m config\n\u001b[0;32m-> 1089\u001b[0m \u001b[39mself\u001b[39m\u001b[39m.\u001b[39mesm \u001b[39m=\u001b[39m EsmModel(config, add_pooling_layer\u001b[39m=\u001b[39;49m\u001b[39mFalse\u001b[39;49;00m)\n\u001b[1;32m   1090\u001b[0m \u001b[39mself\u001b[39m\u001b[39m.\u001b[39mclassifier \u001b[39m=\u001b[39m EsmClassificationHead(config)\n\u001b[1;32m   1092\u001b[0m \u001b[39mself\u001b[39m\u001b[39m.\u001b[39minit_weights()\n",
      "File \u001b[0;32m~/miniconda3/envs/hotprot/lib/python3.8/site-packages/transformers/models/esm/modeling_esm.py:795\u001b[0m, in \u001b[0;36mEsmModel.__init__\u001b[0;34m(self, config, add_pooling_layer)\u001b[0m\n\u001b[1;32m    792\u001b[0m \u001b[39mself\u001b[39m\u001b[39m.\u001b[39mconfig \u001b[39m=\u001b[39m config\n\u001b[1;32m    794\u001b[0m \u001b[39mself\u001b[39m\u001b[39m.\u001b[39membeddings \u001b[39m=\u001b[39m EsmEmbeddings(config)\n\u001b[0;32m--> 795\u001b[0m \u001b[39mself\u001b[39m\u001b[39m.\u001b[39mencoder \u001b[39m=\u001b[39m EsmEncoder(config)\n\u001b[1;32m    797\u001b[0m \u001b[39mself\u001b[39m\u001b[39m.\u001b[39mpooler \u001b[39m=\u001b[39m EsmPooler(config) \u001b[39mif\u001b[39;00m add_pooling_layer \u001b[39melse\u001b[39;00m \u001b[39mNone\u001b[39;00m\n\u001b[1;32m    799\u001b[0m \u001b[39mself\u001b[39m\u001b[39m.\u001b[39mcontact_head \u001b[39m=\u001b[39m EsmContactPredictionHead(\n\u001b[1;32m    800\u001b[0m     in_features\u001b[39m=\u001b[39mconfig\u001b[39m.\u001b[39mnum_hidden_layers \u001b[39m*\u001b[39m config\u001b[39m.\u001b[39mnum_attention_heads, bias\u001b[39m=\u001b[39m\u001b[39mTrue\u001b[39;00m\n\u001b[1;32m    801\u001b[0m )\n",
      "File \u001b[0;32m~/miniconda3/envs/hotprot/lib/python3.8/site-packages/transformers/models/esm/modeling_esm.py:570\u001b[0m, in \u001b[0;36mEsmEncoder.__init__\u001b[0;34m(self, config)\u001b[0m\n\u001b[1;32m    568\u001b[0m \u001b[39msuper\u001b[39m()\u001b[39m.\u001b[39m\u001b[39m__init__\u001b[39m()\n\u001b[1;32m    569\u001b[0m \u001b[39mself\u001b[39m\u001b[39m.\u001b[39mconfig \u001b[39m=\u001b[39m config\n\u001b[0;32m--> 570\u001b[0m \u001b[39mself\u001b[39m\u001b[39m.\u001b[39mlayer \u001b[39m=\u001b[39m nn\u001b[39m.\u001b[39mModuleList([EsmLayer(config) \u001b[39mfor\u001b[39;00m _ \u001b[39min\u001b[39;00m \u001b[39mrange\u001b[39m(config\u001b[39m.\u001b[39mnum_hidden_layers)])\n\u001b[1;32m    571\u001b[0m \u001b[39mself\u001b[39m\u001b[39m.\u001b[39memb_layer_norm_after \u001b[39m=\u001b[39m nn\u001b[39m.\u001b[39mLayerNorm(config\u001b[39m.\u001b[39mhidden_size, eps\u001b[39m=\u001b[39mconfig\u001b[39m.\u001b[39mlayer_norm_eps)\n\u001b[1;32m    572\u001b[0m \u001b[39mself\u001b[39m\u001b[39m.\u001b[39mgradient_checkpointing \u001b[39m=\u001b[39m \u001b[39mFalse\u001b[39;00m\n",
      "File \u001b[0;32m~/miniconda3/envs/hotprot/lib/python3.8/site-packages/transformers/models/esm/modeling_esm.py:570\u001b[0m, in \u001b[0;36m<listcomp>\u001b[0;34m(.0)\u001b[0m\n\u001b[1;32m    568\u001b[0m \u001b[39msuper\u001b[39m()\u001b[39m.\u001b[39m\u001b[39m__init__\u001b[39m()\n\u001b[1;32m    569\u001b[0m \u001b[39mself\u001b[39m\u001b[39m.\u001b[39mconfig \u001b[39m=\u001b[39m config\n\u001b[0;32m--> 570\u001b[0m \u001b[39mself\u001b[39m\u001b[39m.\u001b[39mlayer \u001b[39m=\u001b[39m nn\u001b[39m.\u001b[39mModuleList([EsmLayer(config) \u001b[39mfor\u001b[39;00m _ \u001b[39min\u001b[39;00m \u001b[39mrange\u001b[39m(config\u001b[39m.\u001b[39mnum_hidden_layers)])\n\u001b[1;32m    571\u001b[0m \u001b[39mself\u001b[39m\u001b[39m.\u001b[39memb_layer_norm_after \u001b[39m=\u001b[39m nn\u001b[39m.\u001b[39mLayerNorm(config\u001b[39m.\u001b[39mhidden_size, eps\u001b[39m=\u001b[39mconfig\u001b[39m.\u001b[39mlayer_norm_eps)\n\u001b[1;32m    572\u001b[0m \u001b[39mself\u001b[39m\u001b[39m.\u001b[39mgradient_checkpointing \u001b[39m=\u001b[39m \u001b[39mFalse\u001b[39;00m\n",
      "File \u001b[0;32m~/miniconda3/envs/hotprot/lib/python3.8/site-packages/transformers/models/esm/modeling_esm.py:485\u001b[0m, in \u001b[0;36mEsmLayer.__init__\u001b[0;34m(self, config)\u001b[0m\n\u001b[1;32m    483\u001b[0m \u001b[39mself\u001b[39m\u001b[39m.\u001b[39mchunk_size_feed_forward \u001b[39m=\u001b[39m config\u001b[39m.\u001b[39mchunk_size_feed_forward\n\u001b[1;32m    484\u001b[0m \u001b[39mself\u001b[39m\u001b[39m.\u001b[39mseq_len_dim \u001b[39m=\u001b[39m \u001b[39m1\u001b[39m\n\u001b[0;32m--> 485\u001b[0m \u001b[39mself\u001b[39m\u001b[39m.\u001b[39mattention \u001b[39m=\u001b[39m EsmAttention(config)\n\u001b[1;32m    486\u001b[0m \u001b[39mself\u001b[39m\u001b[39m.\u001b[39mis_decoder \u001b[39m=\u001b[39m config\u001b[39m.\u001b[39mis_decoder\n\u001b[1;32m    487\u001b[0m \u001b[39mself\u001b[39m\u001b[39m.\u001b[39madd_cross_attention \u001b[39m=\u001b[39m config\u001b[39m.\u001b[39madd_cross_attention\n",
      "File \u001b[0;32m~/miniconda3/envs/hotprot/lib/python3.8/site-packages/transformers/models/esm/modeling_esm.py:408\u001b[0m, in \u001b[0;36mEsmAttention.__init__\u001b[0;34m(self, config)\u001b[0m\n\u001b[1;32m    406\u001b[0m \u001b[39mdef\u001b[39;00m \u001b[39m__init__\u001b[39m(\u001b[39mself\u001b[39m, config):\n\u001b[1;32m    407\u001b[0m     \u001b[39msuper\u001b[39m()\u001b[39m.\u001b[39m\u001b[39m__init__\u001b[39m()\n\u001b[0;32m--> 408\u001b[0m     \u001b[39mself\u001b[39m\u001b[39m.\u001b[39mself \u001b[39m=\u001b[39m EsmSelfAttention(config)\n\u001b[1;32m    409\u001b[0m     \u001b[39mself\u001b[39m\u001b[39m.\u001b[39moutput \u001b[39m=\u001b[39m EsmSelfOutput(config)\n\u001b[1;32m    410\u001b[0m     \u001b[39mself\u001b[39m\u001b[39m.\u001b[39mpruned_heads \u001b[39m=\u001b[39m \u001b[39mset\u001b[39m()\n",
      "File \u001b[0;32m~/miniconda3/envs/hotprot/lib/python3.8/site-packages/transformers/models/esm/modeling_esm.py:257\u001b[0m, in \u001b[0;36mEsmSelfAttention.__init__\u001b[0;34m(self, config, position_embedding_type)\u001b[0m\n\u001b[1;32m    255\u001b[0m \u001b[39msuper\u001b[39m()\u001b[39m.\u001b[39m\u001b[39m__init__\u001b[39m()\n\u001b[1;32m    256\u001b[0m \u001b[39mif\u001b[39;00m config\u001b[39m.\u001b[39mhidden_size \u001b[39m%\u001b[39m config\u001b[39m.\u001b[39mnum_attention_heads \u001b[39m!=\u001b[39m \u001b[39m0\u001b[39m \u001b[39mand\u001b[39;00m \u001b[39mnot\u001b[39;00m \u001b[39mhasattr\u001b[39m(config, \u001b[39m\"\u001b[39m\u001b[39membedding_size\u001b[39m\u001b[39m\"\u001b[39m):\n\u001b[0;32m--> 257\u001b[0m     \u001b[39mraise\u001b[39;00m \u001b[39mValueError\u001b[39;00m(\n\u001b[1;32m    258\u001b[0m         \u001b[39mf\u001b[39m\u001b[39m\"\u001b[39m\u001b[39mThe hidden size (\u001b[39m\u001b[39m{\u001b[39;00mconfig\u001b[39m.\u001b[39mhidden_size\u001b[39m}\u001b[39;00m\u001b[39m) is not a multiple of the number of attention \u001b[39m\u001b[39m\"\u001b[39m\n\u001b[1;32m    259\u001b[0m         \u001b[39mf\u001b[39m\u001b[39m\"\u001b[39m\u001b[39mheads (\u001b[39m\u001b[39m{\u001b[39;00mconfig\u001b[39m.\u001b[39mnum_attention_heads\u001b[39m}\u001b[39;00m\u001b[39m)\u001b[39m\u001b[39m\"\u001b[39m\n\u001b[1;32m    260\u001b[0m     )\n\u001b[1;32m    262\u001b[0m \u001b[39mself\u001b[39m\u001b[39m.\u001b[39mnum_attention_heads \u001b[39m=\u001b[39m config\u001b[39m.\u001b[39mnum_attention_heads\n\u001b[1;32m    263\u001b[0m \u001b[39mself\u001b[39m\u001b[39m.\u001b[39mattention_head_size \u001b[39m=\u001b[39m \u001b[39mint\u001b[39m(config\u001b[39m.\u001b[39mhidden_size \u001b[39m/\u001b[39m config\u001b[39m.\u001b[39mnum_attention_heads)\n",
      "\u001b[0;31mValueError\u001b[0m: The hidden size (128) is not a multiple of the number of attention heads (20)"
     ]
    }
   ],
   "source": [
    "import torch\n",
    "from transformers import AutoTokenizer, EsmForSequenceClassification\n",
    "\n",
    "tokenizer = AutoTokenizer.from_pretrained(\"facebook/esm2_t6_8M_UR50D\")\n",
    "\n",
    "print(tokenizer(\"BABBABBABABA\", return_tensors=\"pt\"))\n",
    "\n",
    "exit(1)\n",
    "model = EsmForSequenceClassification.from_pretrained(\"facebook/esm2_t6_8M_UR50D\")\n",
    "\n",
    "inputs = tokenizer(\"Hello, my dog is cute\", return_tensors=\"pt\")\n",
    "\n",
    "with torch.no_grad():\n",
    "    logits = model(**inputs).logits\n",
    "\n",
    "predicted_class_id = logits.argmax().item()\n",
    "\n",
    "\n",
    "huggingface_cls_head_hidden_size = 128\n",
    "huggingface_cls_head_out_size = 64\n",
    "\n",
    "# To train a model on `num_labels` classes, you can pass `num_labels=num_labels` to `.from_pretrained(...)`\n",
    "num_labels = len(model.config.id2label)\n",
    "model = EsmForSequenceClassification.from_pretrained(\"facebook/esm2_t6_8M_UR50D\", num_labels=huggingface_cls_head_out_size, hidden_size=huggingface_cls_head_hidden_size)\n",
    "\n",
    "labels = torch.tensor([1])\n",
    "loss = model(**inputs, labels=labels).loss"
   ]
  },
  {
   "cell_type": "code",
   "execution_count": 6,
   "metadata": {},
   "outputs": [
    {
     "ename": "TypeError",
     "evalue": "'Test' object is not subscriptable",
     "output_type": "error",
     "traceback": [
      "\u001b[0;31m---------------------------------------------------------------------------\u001b[0m",
      "\u001b[0;31mTypeError\u001b[0m                                 Traceback (most recent call last)",
      "Cell \u001b[0;32mIn[6], line 9\u001b[0m\n\u001b[1;32m      4\u001b[0m     juhu: \u001b[39mint\u001b[39m\n\u001b[1;32m      7\u001b[0m t \u001b[39m=\u001b[39m Test(\u001b[39m1\u001b[39m)\n\u001b[0;32m----> 9\u001b[0m t[\u001b[39m0\u001b[39;49m]\n",
      "\u001b[0;31mTypeError\u001b[0m: 'Test' object is not subscriptable"
     ]
    }
   ],
   "source": [
    "from dataclasses import dataclass\n",
    "@dataclass\n",
    "class Test():\n",
    "    juhu: int\n",
    "\n",
    "\n",
    "t = Test(1)\n",
    "\n",
    "t[0]"
   ]
  }
 ],
 "metadata": {
  "kernelspec": {
   "display_name": "hotprot",
   "language": "python",
   "name": "python3"
  },
  "language_info": {
   "codemirror_mode": {
    "name": "ipython",
    "version": 3
   },
   "file_extension": ".py",
   "mimetype": "text/x-python",
   "name": "python",
   "nbconvert_exporter": "python",
   "pygments_lexer": "ipython3",
   "version": "3.8.16"
  },
  "orig_nbformat": 4
 },
 "nbformat": 4,
 "nbformat_minor": 2
}
