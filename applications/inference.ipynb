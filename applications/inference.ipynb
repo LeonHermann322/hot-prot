{
 "cells": [
  {
   "attachments": {},
   "cell_type": "markdown",
   "metadata": {},
   "source": [
    "# Protein melting point prediction\n",
    "For proteins with an existing representation (those listed in [sequences.csv](../data/s_s_avg/sequences.csv)) this can be executed on a GPU with 9GB+ of memory. \n",
    "For novel proteins of length < 700 this notebook is tested on a GPU with roughly 40GB of memory (Nvidia A40)"
   ]
  },
  {
   "attachments": {},
   "cell_type": "markdown",
   "metadata": {},
   "source": [
    "## Imports and CUDA setup"
   ]
  },
  {
   "cell_type": "code",
   "execution_count": null,
   "metadata": {},
   "outputs": [],
   "source": [
    "import torch\n",
    "from torch import nn as nn\n",
    "import torch.backends.cudnn as cudnn\n",
    "import sys\n",
    "import os\n",
    "\n",
    "sys.path.append(os.path.dirname(os.getcwd()))\n",
    "from thermostability.hotinfer import HotInferModel\n",
    "from ipywidgets import widgets\n",
    "\n",
    "cudnn.benchmark = True\n",
    "device = torch.device(\"cuda:0\" if torch.cuda.is_available() else \"cpu\")\n",
    "\n",
    "if torch.cuda.is_available():\n",
    "    torch.cuda.empty_cache()"
   ]
  },
  {
   "attachments": {},
   "cell_type": "markdown",
   "metadata": {},
   "source": [
    "## Load models"
   ]
  },
  {
   "cell_type": "code",
   "execution_count": null,
   "metadata": {},
   "outputs": [],
   "source": [
    "thermo_module_esm = torch.load(\"../data/pretrained/s_s_avg/model.pt\").to(device)\n",
    "model_esm = HotInferModel(\n",
    "    \"s_s_avg\",\n",
    "    thermo_module=thermo_module_esm,\n",
    "    pad_representations=False,\n",
    "    model_parallel=False,\n",
    ")\n",
    "\n",
    "thermo_module_prott5 = torch.load(\"../data/pretrained/prott5_avg/model.pt\").to(device)\n",
    "model_prott5 = HotInferModel(\n",
    "    \"prott5_avg\",\n",
    "    thermo_module=thermo_module_prott5,\n",
    "    pad_representations=False,\n",
    "    model_parallel=False,\n",
    ")"
   ]
  },
  {
   "attachments": {},
   "cell_type": "markdown",
   "metadata": {},
   "source": [
    "## Run prediction"
   ]
  },
  {
   "cell_type": "code",
   "execution_count": null,
   "metadata": {},
   "outputs": [],
   "source": [
    "def infer_therostability(sequence):    \n",
    "    if len(sequence.value) == 0:\n",
    "        print(\"Please provide a protein sequence for which to predict the thermostability.\")\n",
    "    else:\n",
    "        if len(sequence.value) > 700:\n",
    "            print(\n",
    "                \"Inference on sequences of a length of more than 700 amino acids can be inaccurate, since the model did not train on such sequences. \\n Also a CUDA out of memory error might oocur if the sequence is too long for the amount of GPU memory available.\"\n",
    "            )\n",
    "        sequence_str = sequence.value.upper()\n",
    "        prediction_esm = model_esm([sequence_str]).item()\n",
    "        prediction_prott5 = model_prott5([sequence_str]).item()\n",
    "        print(f\"\"\"Predicted melting point of {sequence_str}:\\n\n",
    "            Prediction (ESM): {prediction_esm:4f}\\n\n",
    "            Prediction (ProtT5): {prediction_prott5:4f}\"\"\")"
   ]
  },
  {
   "attachments": {},
   "cell_type": "markdown",
   "metadata": {},
   "source": [
    "You can try the inference for an example protein (Q6ZWK4).\n",
    "\n",
    "Link: https://www.uniprot.org/uniprotkb/Q6ZWK4/entry#sequences"
   ]
  },
  {
   "cell_type": "code",
   "execution_count": null,
   "metadata": {},
   "outputs": [],
   "source": [
    "lbl1 = widgets.Label(\"Sequence to predict\")\n",
    "display(lbl1)\n",
    "sequence = widgets.Text()\n",
    "display(sequence)"
   ]
  },
  {
   "cell_type": "code",
   "execution_count": null,
   "metadata": {},
   "outputs": [],
   "source": [
    "infer_therostability(sequence)"
   ]
  }
 ],
 "metadata": {
  "kernelspec": {
   "display_name": "hotprot",
   "language": "python",
   "name": "python3"
  },
  "language_info": {
   "codemirror_mode": {
    "name": "ipython",
    "version": 3
   },
   "file_extension": ".py",
   "mimetype": "text/x-python",
   "name": "python",
   "nbconvert_exporter": "python",
   "pygments_lexer": "ipython3",
   "version": "3.8.16"
  },
  "orig_nbformat": 4,
  "vscode": {
   "interpreter": {
    "hash": "c2ce9c753ae11230af47747c2525775742a5c4219355d1b58136056d9f8dd6ad"
   }
  }
 },
 "nbformat": 4,
 "nbformat_minor": 2
}
