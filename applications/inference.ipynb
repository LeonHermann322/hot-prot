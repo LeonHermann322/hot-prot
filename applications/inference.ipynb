{
 "cells": [
  {
   "attachments": {},
   "cell_type": "markdown",
   "metadata": {},
   "source": [
    "# Protein melting point prediction\n",
    "For proteins with an existing representation (those listed in [sequences.csv](../data/s_s_avg/sequences.csv)) this can be executed on a GPU with 9GB+ of memory. \n",
    "For novel proteins of length < 700 this notebook is tested on a GPU with roughly 40GB of memory (Nvidia A40)"
   ]
  },
  {
   "attachments": {},
   "cell_type": "markdown",
   "metadata": {},
   "source": [
    "## Imports and CUDA setup"
   ]
  },
  {
   "cell_type": "code",
   "execution_count": 3,
   "metadata": {},
   "outputs": [
    {
     "name": "stdout",
     "output_type": "stream",
     "text": [
      "1024\n",
      "512\n"
     ]
    }
   ],
   "source": [
    "import torch\n",
    "from torch import nn as nn\n",
    "import torch.backends.cudnn as cudnn\n",
    "import sys\n",
    "import os\n",
    "\n",
    "sys.path.append(os.path.dirname(os.getcwd()))\n",
    "from thermostability.hotinfer import HotInferModel\n",
    "from ipywidgets import widgets\n",
    "\n",
    "cudnn.benchmark = True\n",
    "device = torch.device(\"cuda:0\" if torch.cuda.is_available() else \"cpu\")\n",
    "\n",
    "if torch.cuda.is_available():\n",
    "    torch.cuda.empty_cache()"
   ]
  },
  {
   "attachments": {},
   "cell_type": "markdown",
   "metadata": {},
   "source": [
    "## Load model"
   ]
  },
  {
   "cell_type": "code",
   "execution_count": 4,
   "metadata": {},
   "outputs": [
    {
     "name": "stdout",
     "output_type": "stream",
     "text": [
      "cached_file /dhc/home/tobias.fiedler/.cache/torch/hub/checkpoints/esmfold_3B_v1.pt\n",
      "cached_file /dhc/home/tobias.fiedler/.cache/torch/hub/checkpoints/esm2_t36_3B_UR50D.pt\n",
      "cached_file /dhc/home/tobias.fiedler/.cache/torch/hub/checkpoints/esm2_t36_3B_UR50D-contact-regression.pt\n"
     ]
    }
   ],
   "source": [
    "thermo_module = torch.load(\"../data/pretrained/model.pt\")\n",
    "model = HotInferModel(\n",
    "    \"s_s_avg\",\n",
    "    thermo_module=thermo_module,\n",
    "    pad_representations=False,\n",
    "    model_parallel=False,\n",
    ").to(device)"
   ]
  },
  {
   "attachments": {},
   "cell_type": "markdown",
   "metadata": {},
   "source": [
    "## Sequence input"
   ]
  },
  {
   "cell_type": "code",
   "execution_count": 5,
   "metadata": {},
   "outputs": [
    {
     "data": {
      "application/vnd.jupyter.widget-view+json": {
       "model_id": "80c9c417ecd64c9b8bd97a3d21f6164d",
       "version_major": 2,
       "version_minor": 0
      },
      "text/plain": [
       "Label(value='Sequence to predict')"
      ]
     },
     "metadata": {},
     "output_type": "display_data"
    },
    {
     "data": {
      "application/vnd.jupyter.widget-view+json": {
       "model_id": "ef5db75e2fb04076b185a5ac523df467",
       "version_major": 2,
       "version_minor": 0
      },
      "text/plain": [
       "Text(value='')"
      ]
     },
     "metadata": {},
     "output_type": "display_data"
    }
   ],
   "source": [
    "lbl1 = widgets.Label(\"Sequence to predict\")\n",
    "display(lbl1)\n",
    "sequence = widgets.Text()\n",
    "display(sequence)"
   ]
  },
  {
   "attachments": {},
   "cell_type": "markdown",
   "metadata": {},
   "source": [
    "## Run prediction"
   ]
  },
  {
   "cell_type": "code",
   "execution_count": 24,
   "metadata": {},
   "outputs": [
    {
     "name": "stdout",
     "output_type": "stream",
     "text": [
      "Predicted melting point of MKLQHVCILFAISFLVDSKKSVKIPEDVKKGEKLIQELLKGIELKDKHKIGDVFDEKFIYEGCKKKYNKDETITLVSAVDEQKAYMIERNTEIVTTGPYKFATSLSDQFDKLQSSFVVSKDWKLISGKTTSC: \n",
      "53.390533\n"
     ]
    }
   ],
   "source": [
    "if len(sequence.value) == 0:\n",
    "    print(\"Please provide a protein sequence for which to predict the thermostability.\")\n",
    "else:\n",
    "    if len(sequence.value) > 700:\n",
    "        print(\n",
    "            \"Inference on sequences of a length of more than 700 amino acids can be inaccurate, since the model did not train on such sequences. \\n Also a CUDA out of memory error might oocur if the sequence is too long for the amount of GPU memory available.\"\n",
    "        )\n",
    "    sequence_str = sequence.value.upper()\n",
    "    prediction = model([sequence_str]).item()\n",
    "    print(f\"Predicted melting point of {sequence_str}: \\n{prediction:4f}\")"
   ]
  }
 ],
 "metadata": {
  "kernelspec": {
   "display_name": "hotprot",
   "language": "python",
   "name": "python3"
  },
  "language_info": {
   "codemirror_mode": {
    "name": "ipython",
    "version": 3
   },
   "file_extension": ".py",
   "mimetype": "text/x-python",
   "name": "python",
   "nbconvert_exporter": "python",
   "pygments_lexer": "ipython3",
   "version": "3.7.12"
  },
  "orig_nbformat": 4,
  "vscode": {
   "interpreter": {
    "hash": "c2ce9c753ae11230af47747c2525775742a5c4219355d1b58136056d9f8dd6ad"
   }
  }
 },
 "nbformat": 4,
 "nbformat_minor": 2
}
