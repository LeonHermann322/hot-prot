{
 "cells": [
  {
   "attachments": {},
   "cell_type": "markdown",
   "metadata": {},
   "source": [
    "# HotProt melting point prediction"
   ]
  },
  {
   "attachments": {},
   "cell_type": "markdown",
   "metadata": {},
   "source": [
    "## Import and model loading"
   ]
  },
  {
   "cell_type": "code",
   "execution_count": null,
   "metadata": {},
   "outputs": [],
   "source": [
    "import torch\n",
    "from torch.utils.data import DataLoader\n",
    "from torch import nn as nn\n",
    "import torch.backends.cudnn as cudnn\n",
    "from torch.optim import lr_scheduler\n",
    "from thermostability.thermo_pregenerated_dataset import (\n",
    "    ThermostabilityPregeneratedDataset,\n",
    ")\n",
    "from thermostability.hotinfer import HotInferModelParallel\n",
    "from thermostability.hotinfer_pregenerated import HotInferPregeneratedFC\n",
    "from thermostability.cnn_pregenerated import CNNPregeneratedFC, CNNPregenerated\n",
    "from tqdm.notebook import tqdm\n",
    "import sys\n",
    "from thermostability.thermo_dataset import ThermostabilityDataset\n",
    "from thermostability.thermo_pregenerated_dataset import (\n",
    "    zero_padding_collate,\n",
    "    zero_padding700_collate,\n",
    ")\n",
    "import wandb\n",
    "import argparse\n",
    "import pylab as pl\n",
    "from uni_prot.dense_model import DenseModel\n",
    "from uni_prot.uni_prot_dataset import UniProtDataset\n",
    "from ipywidgets import widgets"
   ]
  },
  {
   "cell_type": "code",
   "execution_count": null,
   "metadata": {},
   "outputs": [],
   "source": [
    "cudnn.benchmark = True\n",
    "device = torch.device(\"cuda:0\" if torch.cuda.is_available() else \"cpu\")\n",
    "\n",
    "if torch.cuda.is_available():\n",
    "    torch.cuda.empty_cache()\n",
    "\n",
    "cpu = torch.device(\"cpu\")\n",
    "torch.cuda.empty_cache()\n",
    "torch.cuda.list_gpu_processes()"
   ]
  },
  {
   "cell_type": "code",
   "execution_count": null,
   "metadata": {},
   "outputs": [],
   "source": [
    "model = torch.load('path')"
   ]
  },
  {
   "attachments": {},
   "cell_type": "markdown",
   "metadata": {},
   "source": [
    "## Sequence input"
   ]
  },
  {
   "cell_type": "code",
   "execution_count": null,
   "metadata": {},
   "outputs": [],
   "source": [
    "lbl1 = widgets.Label('Sequence to predict')\n",
    "display(lbl1)\n",
    "sequence = widgets.Text()\n",
    "display(sequence)"
   ]
  },
  {
   "cell_type": "code",
   "execution_count": null,
   "metadata": {},
   "outputs": [],
   "source": [
    "if len(sequence.value) > 700:\n",
    "    print('Inference on sequences of a length of more than 700 amino acids can be inaccurate, since the model did not train on such sequences')\n",
    "sequence = sequence.value.upper()"
   ]
  },
  {
   "cell_type": "code",
   "execution_count": null,
   "metadata": {},
   "outputs": [],
   "source": [
    "prediction = model(sequence)"
   ]
  }
 ],
 "metadata": {
  "kernelspec": {
   "display_name": "hotprot",
   "language": "python",
   "name": "python3"
  },
  "language_info": {
   "codemirror_mode": {
    "name": "ipython",
    "version": 3
   },
   "file_extension": ".py",
   "mimetype": "text/x-python",
   "name": "python",
   "nbconvert_exporter": "python",
   "pygments_lexer": "ipython3",
   "version": "3.7.12"
  },
  "orig_nbformat": 4,
  "vscode": {
   "interpreter": {
    "hash": "680437bfb230a7638a32923e7e040f8dd601f83e877ab8b1d56198086647faeb"
   }
  }
 },
 "nbformat": 4,
 "nbformat_minor": 2
}
