{
 "cells": [
  {
   "cell_type": "code",
   "execution_count": 40,
   "metadata": {},
   "outputs": [],
   "source": [
    "import pandas as pd\n",
    "\n",
    "# Read split files\n",
    "flip_test = pd.read_csv('/hpi/fs00/scratch/tobias.fiedler/hotprot_data/splits/test_FLIP.csv')\n",
    "flip_val = pd.read_csv('/hpi/fs00/scratch/tobias.fiedler/hotprot_data/splits/val_FLIP.csv')\n",
    "flip_train = pd.read_csv('/hpi/fs00/scratch/tobias.fiedler/hotprot_data/splits/train_FLIP.csv')\n",
    "epa_test = pd.read_csv('/hpi/fs00/scratch/tobias.fiedler/hotprot_data/splits/val_median.csv')\n",
    "epa_val = pd.read_csv('/hpi/fs00/scratch/tobias.fiedler/hotprot_data/splits/test_median.csv')\n",
    "epa_train = pd.read_csv('/hpi/fs00/scratch/tobias.fiedler/hotprot_data/splits/train_median.csv')\n",
    "\n",
    "# Extract sequences from split files\n",
    "test_sequences = set(flip_test['sequence'].to_numpy())\n",
    "val_sequences = set(flip_val['sequence'].to_numpy())\n",
    "epa_test_sequences = set(epa_test['sequence'].to_numpy())\n",
    "epa_val_sequences = set(epa_val['sequence'].to_numpy())\n",
    "total_val_sequences = test_sequences.union(val_sequences)\n",
    "epa_total_val_sequences = epa_test_sequences.union(epa_val_sequences)"
   ]
  },
  {
   "cell_type": "code",
   "execution_count": 41,
   "metadata": {},
   "outputs": [],
   "source": [
    "# Read ESM2 pretraining validation clusters\n",
    "esm_eval_clusters = dict()\n",
    "esm_eval_ids = set()\n",
    "with open(\"./uniref201803_ur100_valid_headers.txt\") as txt_file:\n",
    "    for line in txt_file:\n",
    "        parts = line.split(\" \")\n",
    "        id = parts[0].split(\"_\")[1]\n",
    "        cluster = parts[1].split(\"_\")[1].replace(\"\\n\", \"\")\n",
    "        esm_eval_ids.add(id)\n",
    "        if cluster not in esm_eval_clusters:\n",
    "            esm_eval_clusters[cluster] = []\n",
    "        esm_eval_clusters[cluster].append(id)"
   ]
  },
  {
   "cell_type": "code",
   "execution_count": 42,
   "metadata": {},
   "outputs": [],
   "source": [
    "# Complete dataset from FLIP with all measurements\n",
    "def read_fasta(filepath=\"full_dataset_sequences.fasta\"):\n",
    "    first = True\n",
    "    max = 0\n",
    "    dataset = []\n",
    "    with open(filepath) as fasta:\n",
    "        for line in fasta:\n",
    "            if line[0] == \">\":\n",
    "                if first:\n",
    "                    first = False\n",
    "                else:\n",
    "                    dataset.append(entry)\n",
    "                entry = {}\n",
    "                header_tokens = line.split(\" \")\n",
    "                entry[\"id\"] = header_tokens[0].replace(\">\", \"\").split(\"_\")[0]\n",
    "                entry[\"header\"] = line.replace(\"\\n\", \"\")\n",
    "                entry[\"temp\"] = float(header_tokens[1].split(\"=\")[1].replace(\"\\n\", \"\"))\n",
    "                entry[\"sequence\"] = \"\"\n",
    "            else:\n",
    "                entry[\"sequence\"] = entry[\"sequence\"] + line.replace(\"\\n\", \"\")\n",
    "                max = len(entry[\"sequence\"]) if len(entry[\"sequence\"]) > max else max\n",
    "\n",
    "    return dataset\n",
    "\n",
    "\n",
    "flip_dataset = read_fasta()"
   ]
  },
  {
   "cell_type": "code",
   "execution_count": 43,
   "metadata": {},
   "outputs": [],
   "source": [
    "# Build list of validation proteins by linking the sequences to the ids\n",
    "eval_proteins = set()\n",
    "for entry in flip_dataset:\n",
    "    if entry[\"id\"] in esm_eval_ids:\n",
    "        eval_proteins.add(entry[\"sequence\"])"
   ]
  },
  {
   "cell_type": "code",
   "execution_count": 46,
   "metadata": {},
   "outputs": [],
   "source": [
    "def data_leakage(total_val_sequences_of_split, esm_eval_proteins):\n",
    "    # Calculate intersection of test/val sequences and validation proteins\n",
    "    # --> Low intersection means that the test/val sequences must come from ESM2 pretraining train set \n",
    "    # --> data leakage\n",
    "    intersection = total_val_sequences_of_split.intersection(esm_eval_proteins)\n",
    "    return 1.0 - len(intersection) / len(total_val_sequences_of_split)"
   ]
  },
  {
   "cell_type": "code",
   "execution_count": 47,
   "metadata": {},
   "outputs": [
    {
     "name": "stdout",
     "output_type": "stream",
     "text": [
      "Data leakage in EPA split:  0.0\n",
      "Data leakage in FLIP split:  0.9083484573502723\n"
     ]
    }
   ],
   "source": [
    "epa_data_leakage = data_leakage(epa_total_val_sequences, eval_proteins)\n",
    "flip_data_leakage = data_leakage(total_val_sequences, eval_proteins)\n",
    "print(\"Data leakage in EPA split: \", epa_data_leakage)\n",
    "print(\"Data leakage in FLIP split: \", flip_data_leakage)"
   ]
  }
 ],
 "metadata": {
  "kernelspec": {
   "display_name": "b2t",
   "language": "python",
   "name": "python3"
  },
  "language_info": {
   "codemirror_mode": {
    "name": "ipython",
    "version": 3
   },
   "file_extension": ".py",
   "mimetype": "text/x-python",
   "name": "python",
   "nbconvert_exporter": "python",
   "pygments_lexer": "ipython3",
   "version": "3.12.2"
  }
 },
 "nbformat": 4,
 "nbformat_minor": 2
}
