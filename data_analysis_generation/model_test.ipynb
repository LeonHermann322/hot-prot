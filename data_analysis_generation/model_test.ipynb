{
 "cells": [
  {
   "cell_type": "code",
   "execution_count": 1,
   "metadata": {},
   "outputs": [
    {
     "name": "stderr",
     "output_type": "stream",
     "text": [
      "c:\\Users\\lherm\\Desktop\\hot-prot\\.venv\\lib\\site-packages\\tqdm\\auto.py:22: TqdmWarning: IProgress not found. Please update jupyter and ipywidgets. See https://ipywidgets.readthedocs.io/en/stable/user_install.html\n",
      "  from .autonotebook import tqdm as notebook_tqdm\n"
     ]
    }
   ],
   "source": [
    "from thermostability.cnn_pregenerated import CNNPregeneratedFC\n",
    "from torchsummary import summary\n"
   ]
  },
  {
   "cell_type": "code",
   "execution_count": 2,
   "metadata": {},
   "outputs": [],
   "source": [
    "model = CNNPregeneratedFC()"
   ]
  },
  {
   "cell_type": "code",
   "execution_count": 3,
   "metadata": {},
   "outputs": [
    {
     "name": "stdout",
     "output_type": "stream",
     "text": [
      "==========================================================================================\n",
      "Layer (type:depth-idx)                   Output Shape              Param #\n",
      "==========================================================================================\n",
      "├─Conv2d: 1-1                            [-1, 8, 696, 1020]        208\n",
      "├─MaxPool2d: 1-2                         [-1, 8, 348, 510]         --\n",
      "├─Conv2d: 1-3                            [-1, 16, 346, 508]        1,168\n",
      "├─MaxPool2d: 1-4                         [-1, 16, 173, 254]        --\n",
      "├─Conv2d: 1-5                            [-1, 16, 171, 252]        2,320\n",
      "├─MaxPool2d: 1-6                         [-1, 16, 85, 126]         --\n",
      "├─Conv2d: 1-7                            [-1, 16, 83, 124]         2,320\n",
      "├─MaxPool2d: 1-8                         [-1, 16, 41, 62]          --\n",
      "==========================================================================================\n",
      "Total params: 6,016\n",
      "Trainable params: 6,016\n",
      "Non-trainable params: 0\n",
      "Total mult-adds (M): 467.47\n",
      "==========================================================================================\n",
      "Input size (MB): 2.73\n",
      "Forward/backward pass size (MB): 71.30\n",
      "Params size (MB): 0.02\n",
      "Estimated Total Size (MB): 74.06\n",
      "==========================================================================================\n"
     ]
    },
    {
     "data": {
      "text/plain": [
       "==========================================================================================\n",
       "Layer (type:depth-idx)                   Output Shape              Param #\n",
       "==========================================================================================\n",
       "├─Conv2d: 1-1                            [-1, 8, 696, 1020]        208\n",
       "├─MaxPool2d: 1-2                         [-1, 8, 348, 510]         --\n",
       "├─Conv2d: 1-3                            [-1, 16, 346, 508]        1,168\n",
       "├─MaxPool2d: 1-4                         [-1, 16, 173, 254]        --\n",
       "├─Conv2d: 1-5                            [-1, 16, 171, 252]        2,320\n",
       "├─MaxPool2d: 1-6                         [-1, 16, 85, 126]         --\n",
       "├─Conv2d: 1-7                            [-1, 16, 83, 124]         2,320\n",
       "├─MaxPool2d: 1-8                         [-1, 16, 41, 62]          --\n",
       "==========================================================================================\n",
       "Total params: 6,016\n",
       "Trainable params: 6,016\n",
       "Non-trainable params: 0\n",
       "Total mult-adds (M): 467.47\n",
       "==========================================================================================\n",
       "Input size (MB): 2.73\n",
       "Forward/backward pass size (MB): 71.30\n",
       "Params size (MB): 0.02\n",
       "Estimated Total Size (MB): 74.06\n",
       "=========================================================================================="
      ]
     },
     "execution_count": 3,
     "metadata": {},
     "output_type": "execute_result"
    }
   ],
   "source": [
    "from torchsummary import summary\n",
    "summary(model.thermo_cnn,(1,700,1024))\n"
   ]
  },
  {
   "cell_type": "code",
   "execution_count": 5,
   "metadata": {},
   "outputs": [
    {
     "name": "stdout",
     "output_type": "stream",
     "text": [
      "==========================================================================================\n",
      "Layer (type:depth-idx)                   Output Shape              Param #\n",
      "==========================================================================================\n",
      "├─Flatten: 1-1                           [-1, 40672]               --\n",
      "├─LayerNorm: 1-2                         [-1, 40672]               81,344\n",
      "├─Linear: 1-3                            [-1, 512]                 20,824,576\n",
      "├─ReLU: 1-4                              [-1, 512]                 --\n",
      "├─Sequential: 1-5                        [-1, 16]                  --\n",
      "|    └─Linear: 2-1                       [-1, 16]                  8,208\n",
      "|    └─ReLU: 2-2                         [-1, 16]                  --\n",
      "├─Linear: 1-6                            [-1, 1]                   17\n",
      "==========================================================================================\n",
      "Total params: 20,914,145\n",
      "Trainable params: 20,914,145\n",
      "Non-trainable params: 0\n",
      "Total mult-adds (M): 20.88\n",
      "==========================================================================================\n",
      "Input size (MB): 0.16\n",
      "Forward/backward pass size (MB): 0.31\n",
      "Params size (MB): 79.78\n",
      "Estimated Total Size (MB): 80.25\n",
      "==========================================================================================\n"
     ]
    },
    {
     "data": {
      "text/plain": [
       "==========================================================================================\n",
       "Layer (type:depth-idx)                   Output Shape              Param #\n",
       "==========================================================================================\n",
       "├─Flatten: 1-1                           [-1, 40672]               --\n",
       "├─LayerNorm: 1-2                         [-1, 40672]               81,344\n",
       "├─Linear: 1-3                            [-1, 512]                 20,824,576\n",
       "├─ReLU: 1-4                              [-1, 512]                 --\n",
       "├─Sequential: 1-5                        [-1, 16]                  --\n",
       "|    └─Linear: 2-1                       [-1, 16]                  8,208\n",
       "|    └─ReLU: 2-2                         [-1, 16]                  --\n",
       "├─Linear: 1-6                            [-1, 1]                   17\n",
       "==========================================================================================\n",
       "Total params: 20,914,145\n",
       "Trainable params: 20,914,145\n",
       "Non-trainable params: 0\n",
       "Total mult-adds (M): 20.88\n",
       "==========================================================================================\n",
       "Input size (MB): 0.16\n",
       "Forward/backward pass size (MB): 0.31\n",
       "Params size (MB): 79.78\n",
       "Estimated Total Size (MB): 80.25\n",
       "=========================================================================================="
      ]
     },
     "execution_count": 5,
     "metadata": {},
     "output_type": "execute_result"
    }
   ],
   "source": [
    "summary(model.thermo_module_regression, (16, 41, 62))"
   ]
  }
 ],
 "metadata": {
  "kernelspec": {
   "display_name": ".venv",
   "language": "python",
   "name": "python3"
  },
  "language_info": {
   "codemirror_mode": {
    "name": "ipython",
    "version": 3
   },
   "file_extension": ".py",
   "mimetype": "text/x-python",
   "name": "python",
   "nbconvert_exporter": "python",
   "pygments_lexer": "ipython3",
   "version": "3.8.10"
  },
  "orig_nbformat": 4,
  "vscode": {
   "interpreter": {
    "hash": "d305dbf6898f7d437d374baf00ea2ffa05fed7e2919e47a59f2516569616bb66"
   }
  }
 },
 "nbformat": 4,
 "nbformat_minor": 2
}
