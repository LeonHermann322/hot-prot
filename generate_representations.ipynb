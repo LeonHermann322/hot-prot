{
 "cells": [
  {
   "cell_type": "code",
   "execution_count": 1,
   "metadata": {},
   "outputs": [],
   "source": [
    "import torch\n",
    "import torch.nn as nn\n",
    "import torch.optim as optim\n",
    "from torch.optim import lr_scheduler\n",
    "import torch.backends.cudnn as cudnn\n",
    "from torch.utils.data import random_split\n",
    "import numpy as np\n",
    "import matplotlib.pyplot as plt\n",
    "import time\n",
    "import os\n",
    "import copy\n",
    "from thermostability.thermo_dataset import ThermostabilityDataset\n",
    "from util.telegram import TelegramBot\n",
    "\n",
    "cudnn.benchmark = True\n",
    "device = torch.device(\"cuda:0\" if torch.cuda.is_available() else \"cpu\")\n",
    "\n",
    "if torch.cuda.is_available():\n",
    "    torch.cuda.empty_cache() \n",
    "    \n",
    "cpu = torch.device(\"cpu\")\n",
    "\n",
    "torch.cuda.list_gpu_processes()\n",
    "\n",
    "telegramBot = TelegramBot()\n",
    "telegramBot.enabled = True"
   ]
  },
  {
   "cell_type": "code",
   "execution_count": 2,
   "metadata": {},
   "outputs": [
    {
     "name": "stdout",
     "output_type": "stream",
     "text": [
      "Loading data from cache file:  data/train_sequences.fasta_cache.p\n",
      "Loading data from cache file:  data/eval_sequences.fasta_cache.p\n",
      "{'train': 34234, 'val': 3356}\n"
     ]
    }
   ],
   "source": [
    "trainSet = ThermostabilityDataset(\"data/train_sequences.fasta\", max_seq_len=250)\n",
    "valSet = ThermostabilityDataset(\"data/eval_sequences.fasta\", max_seq_len=250)\n",
    "\n",
    "dataloaders = {\n",
    "    \"train\": torch.utils.data.DataLoader(trainSet, batch_size=16, shuffle=False, num_workers=4),\n",
    "    \"val\": torch.utils.data.DataLoader(valSet, batch_size=16, shuffle=False, num_workers=4)\n",
    "}\n",
    "\n",
    "dataset_sizes = {\"train\": len(trainSet),\"val\": len(valSet)}\n",
    "print(dataset_sizes)"
   ]
  },
  {
   "cell_type": "code",
   "execution_count": 3,
   "metadata": {},
   "outputs": [
    {
     "data": {
      "text/plain": [
       "{'ok': True,\n",
       " 'result': {'message_id': 356,\n",
       "  'from': {'id': 5956605174,\n",
       "   'is_bot': True,\n",
       "   'first_name': 'hotprotbot',\n",
       "   'username': 'hotprotbot'},\n",
       "  'chat': {'id': -813132580,\n",
       "   'title': 'HotProt Training',\n",
       "   'type': 'group',\n",
       "   'all_members_are_administrators': True},\n",
       "  'date': 1673448228,\n",
       "  'text': 'Doneinger!'}}"
      ]
     },
     "execution_count": 3,
     "metadata": {},
     "output_type": "execute_result"
    }
   ],
   "source": [
    "import esm\n",
    "import pickle\n",
    "import os\n",
    "esmfold = esm.pretrained.esmfold_v1()\n",
    "esmfold.to(device)\n",
    "\n",
    "rootDir = \"data/s_s/\"\n",
    "\n",
    "def generateRepresenations(set):\n",
    "    telegramBot.send_telegram(f\"Generating s_s representations for set {set}...\")\n",
    "    setDir= os.path.join(rootDir, set)\n",
    "    os.makedirs(setDir, exist_ok=True)\n",
    "    response = telegramBot.send_telegram(f\"Generating first batch...\")\n",
    "    messageId = response[\"result\"][\"message_id\"]\n",
    "    with open(os.path.join(setDir, \"labels.csv\"),\"w\") as csv:\n",
    "        csv.write(f\"filename, thermostability, sequence\\n\") \n",
    "        for index, (inputs, labels) in enumerate(dataloaders[set]):\n",
    "            batch_size = len(inputs)\n",
    "            with torch.no_grad():\n",
    "                esm_output = esmfold.infer(sequences=inputs)\n",
    "                s_s = esm_output[\"s_s\"]\n",
    "                #s_z = esm_output[\"s_z\"]\n",
    "                for s, data in enumerate(s_s):\n",
    "                    file = str(index*batch_size+s)+\".pt\"\n",
    "                    with open(os.path.join(setDir, file), \"wb\") as f:\n",
    "                        torch.save(data.cpu(),f)\n",
    "                        csv.write(f\"{file}, {labels[s][0].item()}, {inputs[s]}\\n\") \n",
    "                    break\n",
    "\n",
    "            if index %10 == 0:\n",
    "                telegramBot.edit_text_message(messageId, f\"Done with {index}/{len(dataloaders[set])} batches for {set}\")\n",
    "            break\n",
    "\n",
    "\n",
    "try:\n",
    "    for set in [\"train\", \"val\"]:\n",
    "        generateRepresenations(set)\n",
    "except Exception as e:\n",
    "    telegramBot.send_telegram(\"Generation of representations failed with error message: \"+str(e))\n",
    "\n",
    "telegramBot.send_telegram(f\"Doneinger!\")"
   ]
  },
  {
   "cell_type": "code",
   "execution_count": null,
   "metadata": {},
   "outputs": [],
   "source": []
  }
 ],
 "metadata": {
  "kernelspec": {
   "display_name": "hotprot",
   "language": "python",
   "name": "python3"
  },
  "language_info": {
   "codemirror_mode": {
    "name": "ipython",
    "version": 3
   },
   "file_extension": ".py",
   "mimetype": "text/x-python",
   "name": "python",
   "nbconvert_exporter": "python",
   "pygments_lexer": "ipython3",
   "version": "3.7.12"
  },
  "orig_nbformat": 4,
  "vscode": {
   "interpreter": {
    "hash": "c2ce9c753ae11230af47747c2525775742a5c4219355d1b58136056d9f8dd6ad"
   }
  }
 },
 "nbformat": 4,
 "nbformat_minor": 2
}
